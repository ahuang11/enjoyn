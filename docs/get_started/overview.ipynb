{
 "cells": [
  {
   "cell_type": "markdown",
   "metadata": {},
   "source": [
    "# overview\n",
    "\n",
    "This is a short overview of `enjoyn`, geared towards new users."
   ]
  },
  {
   "cell_type": "markdown",
   "metadata": {},
   "source": [
    "## why `enjoyn`\n",
    "\n",
    "The primary goal of `enjoyn` is to facilitate joining images to form animations.\n",
    "\n",
    "Indubitably, there are plenty of other Python libraries that already accomplish this.\n",
    "\n",
    "However, many of these Python libraries either:\n",
    "\n",
    "- only utilize a single thread for rendering.\n",
    "- requires the images for the animation ready on the file system.\n",
    "\n",
    "In contrast, `enjoyn` features:\n",
    "\n",
    "- utilizing multiple threads and/or processes for rendering.\n",
    "- generating input images for the animation on the fly."
   ]
  },
  {
   "cell_type": "markdown",
   "metadata": {},
   "source": [
    "## short demo\n",
    "\n",
    "To demonstrate, let's first generate a large number of images to animate."
   ]
  },
  {
   "cell_type": "code",
   "execution_count": null,
   "metadata": {},
   "outputs": [],
   "source": [
    "from enjoyn.example import RandomWalkExample\n",
    "\n",
    "example = RandomWalkExample(length=1000)\n",
    "with example.time_run():\n",
    "    outputs = example.output_images()\n",
    "\n",
    "print(f\"Length: {len(outputs)}, Example: {outputs[0]}\")"
   ]
  },
  {
   "cell_type": "markdown",
   "metadata": {},
   "source": [
    "### using imageio\n",
    "\n",
    "To animate those images, let's use `imageio` to:\n",
    "\n",
    "1. serialize the output into `numpy` arrays using `iio.imread`.\n",
    "2. join the arrays to form a GIF using `iio.imwrite`."
   ]
  },
  {
   "cell_type": "code",
   "execution_count": null,
   "metadata": {},
   "outputs": [],
   "source": [
    "import imageio.v3 as iio\n",
    "\n",
    "with example.time_run():\n",
    "    imageio_uri = \"imageio_random_walk.gif\"\n",
    "    iio.imwrite(imageio_uri, [iio.imread(output) for output in outputs], loop=0)"
   ]
  },
  {
   "cell_type": "markdown",
   "metadata": {},
   "source": [
    "### using enjoyn\n",
    "\n",
    "Now let's use `enjoyn` to do the same."
   ]
  },
  {
   "cell_type": "code",
   "execution_count": null,
   "metadata": {},
   "outputs": [],
   "source": [
    "from enjoyn import GifAnimator\n",
    "\n",
    "with example.time_run():\n",
    "    enjoyn_uri = \"enjoyn_random_walk.gif\"\n",
    "    GifAnimator(items=outputs, output_path=enjoyn_uri).compute()"
   ]
  },
  {
   "cell_type": "markdown",
   "metadata": {},
   "source": [
    "### both outputs"
   ]
  },
  {
   "cell_type": "markdown",
   "metadata": {},
   "source": [
    "Here are the rendered GIFs; `imageio` is shown above and `enjoyn` is shown below."
   ]
  },
  {
   "cell_type": "markdown",
   "metadata": {},
   "source": [
    "![img](imageio_random_walk.gif)\n",
    "![img](enjoyn_random_walk.gif)"
   ]
  },
  {
   "cell_type": "markdown",
   "metadata": {},
   "source": [
    "Here are the file sizes."
   ]
  },
  {
   "cell_type": "code",
   "execution_count": null,
   "metadata": {},
   "outputs": [],
   "source": [
    "example.size_of(\"imageio_random_walk.gif\")\n",
    "example.size_of(\"enjoyn_random_walk.gif\")"
   ]
  },
  {
   "cell_type": "markdown",
   "metadata": {},
   "source": [
    "Notice, although the renders look identical, both [runtime](#using-imageio) and file size are **halved** with `enjoyn`!"
   ]
  },
  {
   "cell_type": "markdown",
   "metadata": {},
   "source": [
    "### inner workings\n",
    "\n",
    "Internally, `enjoyn` uses `imageio` as [described above](#using-imageio).\n",
    "\n",
    "However, on top of that, `enjoyn` leverages `dask` to scale and `gifsicle` to optimize:\n",
    "\n",
    "- `dask` partitions the items across workers, returning partitioned animations.\n",
    "- `gifsicle` concatenates the partitioned animations and applies compression.\n",
    "\n",
    "Here's what the `dask` dashboard would have looked like if a `distributed.Client` was provided!"
   ]
  },
  {
   "cell_type": "markdown",
   "metadata": {},
   "source": [
    "![img](dask_dashboard.gif)"
   ]
  },
  {
   "cell_type": "markdown",
   "metadata": {},
   "source": [
    "### using preprocessor"
   ]
  },
  {
   "cell_type": "markdown",
   "metadata": {},
   "source": [
    "Before cleaning up, let's see how `enjoyn` can generate input images on the fly.\n",
    "\n",
    "To accomplish this:\n",
    "\n",
    "1. serialize a `Preprocessor` with the desired plotting function, `func`, and keywords, `kwds`.\n",
    "2. update `items` so that when it's mapped, each item becomes the first positional argument of `func`.\n",
    "\n",
    "Note `enjoyn` can accept both files and file-objects, as exemplified by setting `to_bytes_io = True` here."
   ]
  },
  {
   "cell_type": "code",
   "execution_count": null,
   "metadata": {},
   "outputs": [],
   "source": [
    "from enjoyn import GifAnimator, Preprocessor\n",
    "\n",
    "with example.time_run():\n",
    "    example.to_bytes_io = True\n",
    "    preprocessor = Preprocessor(func=example.plot_image)\n",
    "\n",
    "    data = example.load_data()\n",
    "    items = [data[:i] for i in range(1, len(data))]\n",
    "\n",
    "    output_path = \"enjoyn_random_walk_on_the_fly.gif\"\n",
    "\n",
    "    GifAnimator(\n",
    "        preprocessor=preprocessor, items=items, output_path=output_path\n",
    "    ).compute()"
   ]
  },
  {
   "cell_type": "markdown",
   "metadata": {},
   "source": [
    "The runtime is now way over 10 seconds.\n",
    "\n",
    "However, that's because it's now performing two jobs:\n",
    "\n",
    "- generating the images.\n",
    "- rendering the animation.\n",
    "\n",
    "Overall, `enjoyn` is still able to halve the total runtime because these jobs are executed in parallel."
   ]
  },
  {
   "cell_type": "code",
   "execution_count": null,
   "metadata": {},
   "outputs": [],
   "source": [
    "example.cleanup_images()"
   ]
  },
  {
   "cell_type": "markdown",
   "metadata": {},
   "source": [
    "## next steps"
   ]
  },
  {
   "cell_type": "markdown",
   "metadata": {},
   "source": [
    "If this guide intrigued you, why not [install enjoyn](installation.ipynb) or [star the repo](https://github.com/ahuang11/enjoyn)?\n",
    "\n",
    "It's inspiring to see others enjoy `enjoyn`!"
   ]
  }
 ],
 "metadata": {
  "kernelspec": {
   "display_name": "Python 3.9.7 ('base')",
   "language": "python",
   "name": "python3"
  },
  "language_info": {
   "codemirror_mode": {
    "name": "ipython",
    "version": 3
   },
   "file_extension": ".py",
   "mimetype": "text/x-python",
   "name": "python",
   "nbconvert_exporter": "python",
   "pygments_lexer": "ipython3",
   "version": "3.9.13"
  },
  "vscode": {
   "interpreter": {
    "hash": "c6e4e9f98eb68ad3b7c296f83d20e6de614cb42e90992a65aa266555a3137d0d"
   }
  }
 },
 "nbformat": 4,
 "nbformat_minor": 2
}
