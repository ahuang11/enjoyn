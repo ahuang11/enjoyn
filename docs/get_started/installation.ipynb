{
 "cells": [
  {
   "cell_type": "markdown",
   "metadata": {},
   "source": [
    "# installation\n",
    "\n",
    "## base package\n",
    "\n",
    "To use `enjoyn`, install the base package; then install at least one of the supported plugins.\n",
    "\n",
    "### PyPi release\n",
    "\n",
    "- To install and/or upgrade the base package:\n",
    "\n",
    "  `pip install --upgrade enjoyn`\n",
    "\n",
    "### `main` branch\n",
    "\n",
    "- To get the latest version from GitHub:\n",
    "\n",
    "  `pip install --upgrade git+https://github.com/ahuang11/enjoyn`\n",
    "\n",
    "### for development\n",
    "\n",
    "- To run an editable installation, useful for development:\n",
    "\n",
    "  `git clone https://github.com/ahuang11/enjoyn.git && pip install -e \".[dev]\" && pre-commit install`\n",
    "\n",
    "## supporting libraries\n",
    "\n",
    "### GIF plugin\n",
    "\n",
    "- Use `gifsicle` to render GIFs:\n",
    "\n",
    "  `pip install pygifsicle`\n",
    "  \n",
    "- Then ensure the backend is installed:\n",
    "  \n",
    "  `which gifsicle`\n",
    "\n",
    "- If not found, run one of the following:\n",
    "\n",
    "  - Conda: `conda install -c conda-forge gifsicle`\n",
    "  - Linux: `sudo apt-get install gifsicle`\n",
    "  - Mac: `brew install gifsicle`\n",
    "\n",
    "### MP4 plugin\n",
    "\n",
    "- Use `ffmpeg` to render MP4s:\n",
    "\n",
    "  `pip install imageio_ffmpeg`\n",
    "\n",
    "- Then ensure the backend is installed:\n",
    "\n",
    "  `which ffmpeg`\n",
    "\n",
    "- If not found, run one of the following:\n",
    "\n",
    "  - Conda: `conda install -c conda-forge ffmpeg`\n",
    "  - Linux: `sudo apt-get install ffmpeg`\n",
    "  - Mac: `brew install ffmpeg`\n",
    "\n",
    "### task graph\n",
    "\n",
    "- Use `graphviz` to visualize `dask` [task graphs](https://docs.dask.org/en/stable/graphviz.html):\n",
    "\n",
    "  `pip install graphviz`\n"
   ]
  },
  {
   "cell_type": "markdown",
   "metadata": {},
   "source": [
    "## dependencies\n",
    "\n",
    "Python packages | internal use case\n",
    "--- | ---\n",
    "`dask[delayed]` | local parallelization\n",
    "`imageio` | image serialization\n",
    "`pydantic` | input validation\n",
    "`typing_extensions` | type annotation\n",
    "`dask[distributed]` | distributed parallelization, *optional*\n",
    "`pygifsicle` | GIFs, *optional*\n",
    "`image_ffmpeg` | MP4s, *optional*\n",
    "`graphviz` | task graphs, *optional*\n"
   ]
  }
 ],
 "metadata": {
  "kernelspec": {
   "display_name": "Python 3.9.7 ('base')",
   "language": "python",
   "name": "python3"
  },
  "language_info": {
   "codemirror_mode": {
    "name": "ipython",
    "version": 3
   },
   "file_extension": ".py",
   "mimetype": "text/x-python",
   "name": "python",
   "nbconvert_exporter": "python",
   "pygments_lexer": "ipython3"
  },
  "vscode": {
   "interpreter": {
    "hash": "c6e4e9f98eb68ad3b7c296f83d20e6de614cb42e90992a65aa266555a3137d0d"
   }
  }
 },
 "nbformat": 4,
 "nbformat_minor": 2
}
