{
 "cells": [
  {
   "cell_type": "markdown",
   "metadata": {},
   "source": [
    "# cheat sheet"
   ]
  },
  {
   "cell_type": "markdown",
   "metadata": {},
   "source": [
    "how do I... | hint\n",
    "-- | --\n",
    "create a GIF | ```from enjoyn import GifAnimator; GifAnimator(items=x, output_path=y).compute()```\n",
    "create a MP4 | ```from enjoyn import Mp4Animator; Mp4Animator(items=x, output_path=y).compute()```\n",
    "generate images on the fly | ```from enjoyn import Preprocessor; GifAnimator(..., preprocessor=x)```\n",
    "use an existing ```Client``` | ```from distributed import Client; GifAnimator(...).compute(client=Client())```\n",
    "use single thread per worker | ```Client(threads_per_worker=1)```\n",
    "visualize a task graph | ```GifAnimator(...).plan()```\n",
    "get dask delayed object | ```GifAnimator(...).plan(visualize=False)```\n",
    "tweak runtime | ```GifAnimator(...).plan(partition_size=x, split_every=y)```\n",
    "debug outputs | ```GifAnimator(..., _debug=True)```"
   ]
  },
  {
   "cell_type": "markdown",
   "metadata": {},
   "source": [
    "Check back again, more to come!"
   ]
  }
 ],
 "metadata": {
  "kernelspec": {
   "display_name": "Python 3.9.7 ('base')",
   "language": "python",
   "name": "python3"
  },
  "language_info": {
   "name": "python",
   "version": "3.9.13"
  },
  "vscode": {
   "interpreter": {
    "hash": "c6e4e9f98eb68ad3b7c296f83d20e6de614cb42e90992a65aa266555a3137d0d"
   }
  }
 },
 "nbformat": 4,
 "nbformat_minor": 2
}
