{
 "cells": [
  {
   "cell_type": "markdown",
   "metadata": {},
   "source": [
    "# cheat sheet"
   ]
  },
  {
   "cell_type": "markdown",
   "metadata": {},
   "source": [
    "## how do I...\n",
    "\n",
    "### create a GIF \n",
    "```python\n",
    "from enjoyn import GifAnimator\n",
    "GifAnimator(items=[\"01.png\", \"02.png\"], output_path=\"output.gif\").compute()\n",
    "```\n",
    "\n",
    "### create a MP4\n",
    "```python\n",
    "from enjoyn import Mp4Animator\n",
    "Mp4Animator(items=[\"01.png\", \"02.png\"], output_path=\"output.mp4\").compute()\n",
    "```\n",
    "\n",
    "### read `items` from a directory\n",
    "```python\n",
    "from enjoyn import GifAnimator\n",
    "GifAnimator.from_directory(\"path/to/directory\", pattern=\"*.png\", limit=10)\n",
    "```\n",
    "\n",
    "### generate images on the fly\n",
    "```python\n",
    "from enjoyn import Preprocessor\n",
    "preprocessor = Preprocessor(func=lambda item: item, args=(), kwds={})\n",
    "GifAnimator(..., preprocessor=preprocessor)\n",
    "```\n",
    "\n",
    "### use an existing `Client`\n",
    "```python\n",
    "from distributed import Client\n",
    "client = Client(threads_per_worker=1)\n",
    "GifAnimator(...).compute(client=client)\n",
    "```\n",
    "\n",
    "### disable progress bar\n",
    "```python\n",
    "GifAnimator(...).compute(show_progress=False)\n",
    "```\n",
    "\n",
    "### visualize a task graph\n",
    "```python\n",
    "GifAnimator(...).plan()\n",
    "```\n",
    "\n",
    "### get dask delayed object\n",
    "```python\n",
    "GifAnimator(...).plan(visualize=False)\n",
    "```\n",
    "\n",
    "### tweak runtime\n",
    "```python\n",
    "GifAnimator(...).plan(partition_size=28, split_every=8)\n",
    "```\n",
    "\n",
    "### debug outputs\n",
    "```python\n",
    "GifAnimator(..., _debug=True)\n",
    "```"
   ]
  }
 ],
 "metadata": {
  "kernelspec": {
   "display_name": "Python 3.9.7 ('base')",
   "language": "python",
   "name": "python3"
  },
  "language_info": {
   "name": "python",
   "version": "3.9.13"
  },
  "vscode": {
   "interpreter": {
    "hash": "c6e4e9f98eb68ad3b7c296f83d20e6de614cb42e90992a65aa266555a3137d0d"
   }
  }
 },
 "nbformat": 4,
 "nbformat_minor": 2
}
