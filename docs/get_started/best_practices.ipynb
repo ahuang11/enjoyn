{
 "cells": [
  {
   "cell_type": "markdown",
   "metadata": {},
   "source": [
    "# best practices"
   ]
  },
  {
   "cell_type": "markdown",
   "metadata": {},
   "source": [
    "## error prevention\n",
    "\n",
    "### script guard\n",
    "\n",
    "When writing scripts that use `enjoyn`, be sure to add a guard, `if __name__ == '__main__':`.\n",
    "\n",
    "Without the guard, you may encounter an error like:\n",
    "```\n",
    "An attempt has been made to start a new process...\n",
    "```\n",
    "\n",
    "Fix:\n",
    "```python\n",
    "def animate(items, output_path):\n",
    "    return GifAnimator(items, output_path=output_path).compute()\n",
    "\n",
    "if __name__ == \"__main__\":\n",
    "    animate([0, 1, 2], \"enjoyn.gif\")\n",
    "```"
   ]
  },
  {
   "cell_type": "markdown",
   "metadata": {},
   "source": [
    "## `matplotlib` preprocessor"
   ]
  },
  {
   "cell_type": "markdown",
   "metadata": {},
   "source": [
    "### closing figures\n",
    "\n",
    "When using the [object-oriented interface](https://matplotlib.org/matplotblog/posts/pyplot-vs-object-oriented-interface/), e.g. `ax.plot` instead of `plt.plot`, explicitly close the figure after saving.\n",
    "\n",
    "Without closing the figure, you may encounter overlapping frames like:\n",
    "\n",
    "<img src=\"overlapping_frames.gif\" width=\"300\" height=\"300\"/>\n",
    "\n",
    "Fix:\n",
    "```python\n",
    "def plot(i):\n",
    "    buf = BytesIO()\n",
    "    ax = plt.axes()\n",
    "    ax.scatter(range(i), range(0, -i, -1))\n",
    "    plt.savefig(buf)\n",
    "    plt.close()\n",
    "    return buf\n",
    "```\n",
    "\n",
    "### alongside `Client`\n",
    "\n",
    "When using `Client` alongside `matplotlib`, ensure `threads_per_worker=1` and `scheduler='processes'`.\n",
    "\n",
    "Without those settings, because `matplotlib` is not thread-safe, you may notice \"flashing\" in the output like:\n",
    "\n",
    "<img src=\"corrupted_frames.gif\" width=\"300\" height=\"300\"/>\n",
    "\n",
    "Fix:\n",
    "```python\n",
    "client = Client(threads_per_worker=1)\n",
    "GifAnimator(...).compute(client=client, scheduler=\"processes\")\n",
    "```\n",
    "\n",
    "### PNG inputs\n",
    "\n",
    "When using `PNG` files as inputs, ensure transparency is disabled.\n",
    "\n",
    "Without transparency disabled, the frames may overlap and have unusually thick labels like:\n",
    "\n",
    "<img src=\"transparent_frames.gif\" width=\"300\" height=\"300\"/>\n",
    "\n",
    "Fix:\n",
    "```python\n",
    "path = \"enjoyn.png\"\n",
    "plt.savefig(path, transparent=False)\n",
    "```"
   ]
  },
  {
   "cell_type": "markdown",
   "metadata": {},
   "source": [
    "## runtime improvement"
   ]
  },
  {
   "cell_type": "markdown",
   "metadata": {},
   "source": [
    "### optimization level\n",
    "\n",
    "By default, `enjoyn` sets `--optimize=2` when calling `gifsicle`; this reduces the output GIF file size, but it increases runtime.\n",
    "\n",
    "To slightly improve runtime, lower the optimization level to either 1 or 0, like:\n",
    "\n",
    "```python\n",
    "gifsicle_options = (\n",
    "    \"--optimize=1\",\n",
    "    \"--loopcount=0\",\n",
    "    \"--no-warnings\",\n",
    "    \"--no-conserve-memory\",\n",
    ")\n",
    "GifAnimator(..., gifsicle_options=gifsicle_options)\n",
    "```"
   ]
  },
  {
   "cell_type": "markdown",
   "metadata": {},
   "source": [
    "### dask practices\n",
    "\n",
    "`enjoyn` uses `dask` under the hood.\n",
    "\n",
    "Because of that, many of the best practices documented on the [Dask Best Practices](https://docs.dask.org/en/stable/best-practices.html#dask-best-practices) page can be applied directly to `enjoyn`!\n",
    "\n",
    "Take a moment to read through that page, as the following sections will build off those."
   ]
  },
  {
   "cell_type": "markdown",
   "metadata": {},
   "source": [
    "### load balancing\n",
    "\n",
    "Using the default `partition_size` is often sufficient.\n",
    "\n",
    "However, setting `partition_size` could potentially result in non-trivial, runtime improvements:\n",
    "\n",
    "partition_size | split_every | runtime\n",
    "-- | -- | --\n",
    "5 | 8 | **60.327964458000004 s**\n",
    "10 | 8 |48.460150291999994 s\n",
    "15 | 8 |43.28642183299999 s\n",
    "20 | 8 |37.66648841700001 s\n",
    "25 | 8 |**35.95637416699998 s**\n",
    "30 | 8 |36.22763499999999 s\n",
    "35 | 8 |37.23397341599997 s\n",
    "40 | 8 |37.620205208000016 s\n",
    "45 | 8 |36.81053320899997 s\n",
    "50 | 8 |36.307873958000016 s\n",
    "55 | 8 |37.89227575000001 s\n",
    "60 | 8 |36.13886149999996 s\n",
    "65 | 8 |34.24571162500001 s\n",
    "70 | 8 |34.83682420800005 s\n",
    "75 | 8 |35.42635258300004 s\n",
    "80 | 8 |37.08470925000006 s\n",
    "85 | 8 |37.39111029200001 s\n",
    "90 | 8 |45.47146862499994 s\n",
    "95 | 8 |41.320183334000035 s\n",
    "100 | 8 | 45.79483091599991 s\n",
    "\n",
    "Setting `split_every` can help too, but not as significantly:\n",
    "\n",
    "partition_size | split_every | runtime\n",
    "-- | -- | --\n",
    "25 | 5 | 38.31650670900012 s\n",
    "25 | 10 | 38.866160541 s\n",
    "25 | 15 | **39.90577137499986 s**\n",
    "25 | 20 | 37.52823162499999 s\n",
    "25 | 25 | 37.232953999999836 s\n",
    "25 | 30 | 35.151116916999854 s\n",
    "25 | 35 | 36.11464854200017 s\n",
    "25 | 40 | **33.16041745799998 s**\n",
    "\n",
    "Tested with MacBook Air (M1, 2020); re-runs may vary slightly.\n",
    "\n",
    "Code:\n",
    "```python\n",
    "from dask.distributed import Client\n",
    "from enjoyn import GifAnimator, Preprocessor\n",
    "from enjoyn.example import RandomWalkExample\n",
    "\n",
    "example = RandomWalkExample(length=1000)\n",
    "preprocessor = Preprocessor(func=example.plot_image)\n",
    "data = example.load_data()\n",
    "items = [data[:i] for i in range(1, len(data))]\n",
    "output_path = example._temporary_directory / \"random_walk.gif\"\n",
    "kwds = dict(preprocessor=preprocessor, items=items, output_path=output_path)\n",
    "animator = GifAnimator(**kwds)\n",
    "client = Client(threads_per_worker=1)\n",
    "\n",
    "\n",
    "def compute(partition_size=None, split_every=None):\n",
    "    compute_kwds = dict(\n",
    "        partition_size=partition_size, split_every=split_every, client=client\n",
    "    )\n",
    "    print(partition_size, split_every)\n",
    "    with example.time_run():\n",
    "        animator.compute(**compute_kwds)\n",
    "\n",
    "\n",
    "[compute(partition_size=partition_size) for partition_size in range(5, 105, 5)]\n",
    "[compute(partition_size=25, split_every=split_every) for split_every in range(5, 45, 5)]\n",
    "```\n",
    "\n",
    "Note these partition sizes may not be suited for other runs; it's highly dependent on the `items` input, what the `preprocessor` is doing, and the number of cores and memory available on the machine!\n",
    "\n",
    "Overall, don't let the partition size be too small or too large!\n",
    "\n",
    "If you'd like to help contribute benchmarks, please [submit a pull request](https://github.com/ahuang11/enjoyn/pulls)."
   ]
  },
  {
   "cell_type": "markdown",
   "metadata": {},
   "source": [
    "### scheduler type\n",
    "\n",
    "When there is no `preprocessor` specified, `enjoyn` defaults to `scheduler=\"threads\"` for faster runtimes since threads take relatively less time to spin-up compared to processes.\n",
    "\n",
    "Conversely, when there is a `preprocessor` specified, `enjoyn` defaults to `scheduler=\"processes\"` since `matplotlib` is not thread-safe, yet is often used within the `preprocessor`.\n",
    "\n",
    "However, if the `preprocessor` is doing mostly numeric work with `imageio`, `numpy`, `pandas`, `scikit-learn`, `numba`, and other libraries that release the GIL, manually specify `scheduler=\"threads\"` for faster runtimes."
   ]
  }
 ],
 "metadata": {
  "kernelspec": {
   "display_name": "Python 3.9.7 ('base')",
   "language": "python",
   "name": "python3"
  },
  "language_info": {
   "codemirror_mode": {
    "name": "ipython",
    "version": 3
   },
   "file_extension": ".py",
   "mimetype": "text/x-python",
   "name": "python",
   "nbconvert_exporter": "python",
   "pygments_lexer": "ipython3",
   "version": "3.9.13"
  },
  "vscode": {
   "interpreter": {
    "hash": "c6e4e9f98eb68ad3b7c296f83d20e6de614cb42e90992a65aa266555a3137d0d"
   }
  }
 },
 "nbformat": 4,
 "nbformat_minor": 2
}
