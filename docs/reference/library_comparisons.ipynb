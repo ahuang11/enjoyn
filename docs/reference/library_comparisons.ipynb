{
 "cells": [
  {
   "cell_type": "markdown",
   "metadata": {},
   "source": [
    "# library comparisons"
   ]
  },
  {
   "cell_type": "markdown",
   "metadata": {},
   "source": [
    "## results\n",
    "\n",
    "GIF animations:\n",
    "\n",
    "library | runtime (s) | file size (MBs)\n",
    "-- | -- | --\n",
    "enjoyn | 39 | 22\n",
    "imageio | 42 | 32\n",
    "moviepy | 111 | 40\n",
    "ffmpeg | 37 | 255\n",
    "\n",
    "MP4 animations:\n",
    "\n",
    "library | runtime (s) | file size (MBs)\n",
    "-- | -- | --\n",
    "enjoyn | 15 | 11\n",
    "imageio | 37 | 10\n",
    "moviepy | 57 | 10\n",
    "ffmpeg | 13 | 10\n",
    "\n",
    "Tested with MacBook Air (M1, 2020); re-runs may vary slightly."
   ]
  },
  {
   "cell_type": "markdown",
   "metadata": {},
   "source": [
    "## setup"
   ]
  },
  {
   "cell_type": "code",
   "execution_count": null,
   "metadata": {},
   "outputs": [],
   "source": [
    "from enjoyn.example import AirTemperatureExample\n",
    "\n",
    "example = AirTemperatureExample()\n",
    "outputs = example.output_images()"
   ]
  },
  {
   "cell_type": "markdown",
   "metadata": {},
   "source": [
    "## gif animation"
   ]
  },
  {
   "cell_type": "markdown",
   "metadata": {},
   "source": [
    "### enjoyn"
   ]
  },
  {
   "cell_type": "code",
   "execution_count": null,
   "metadata": {},
   "outputs": [],
   "source": [
    "from enjoyn import GifAnimator\n",
    "\n",
    "with example.time_run():\n",
    "    GifAnimator(items=outputs, output_path=\"enjoyn_air_temperature.gif\").compute()\n",
    "\n",
    "example.size_of(\"enjoyn_air_temperature.gif\")"
   ]
  },
  {
   "cell_type": "markdown",
   "metadata": {},
   "source": [
    "### imageio"
   ]
  },
  {
   "cell_type": "code",
   "execution_count": null,
   "metadata": {},
   "outputs": [],
   "source": [
    "import imageio.v3 as iio\n",
    "\n",
    "with example.time_run():\n",
    "    imageio_uri = \"imageio_air_temperature.gif\"\n",
    "    iio.imwrite(imageio_uri, [iio.imread(output) for output in outputs], loop=0)\n",
    "\n",
    "example.size_of(\"imageio_air_temperature.gif\")"
   ]
  },
  {
   "cell_type": "markdown",
   "metadata": {},
   "source": [
    "### moviepy"
   ]
  },
  {
   "cell_type": "code",
   "execution_count": null,
   "metadata": {},
   "outputs": [],
   "source": [
    "import moviepy.editor\n",
    "from moviepy.editor import ImageSequenceClip\n",
    "\n",
    "str_outputs = [str(output) for output in outputs]\n",
    "with example.time_run():\n",
    "    clip = ImageSequenceClip(str_outputs, fps=10)\n",
    "    clip.write_gif(\"moviepy_air_temperature.gif\")\n",
    "\n",
    "example.size_of(\"moviepy_air_temperature.gif\")"
   ]
  },
  {
   "cell_type": "markdown",
   "metadata": {},
   "source": [
    "### ffmpeg"
   ]
  },
  {
   "cell_type": "code",
   "execution_count": null,
   "metadata": {},
   "outputs": [],
   "source": [
    "import shlex\n",
    "import subprocess\n",
    "\n",
    "for i, output in enumerate(outputs):\n",
    "    img_path = example._temporary_directory / f\"{i:04d}.png\"\n",
    "    img_path.write_bytes(output.read_bytes())\n",
    "\n",
    "cmd = shlex.split(\n",
    "    f\"ffmpeg -f image2 -framerate 20 \"\n",
    "    f\"-i {example._temporary_directory}/%04d.png -y \"\n",
    "    f\"-loglevel quiet ffmpeg_air_temperature.gif\"\n",
    ")\n",
    "with example.time_run():\n",
    "    subprocess.run(cmd)\n",
    "\n",
    "example.size_of(\"ffmpeg_air_temperature.gif\")"
   ]
  },
  {
   "cell_type": "markdown",
   "metadata": {},
   "source": [
    "## mp4 animation"
   ]
  },
  {
   "cell_type": "markdown",
   "metadata": {},
   "source": [
    "### enjoyn"
   ]
  },
  {
   "cell_type": "code",
   "execution_count": null,
   "metadata": {},
   "outputs": [],
   "source": [
    "from enjoyn import Mp4Animator\n",
    "\n",
    "with example.time_run():\n",
    "    Mp4Animator(items=outputs, output_path=\"enjoyn_air_temperature.mp4\").compute()\n",
    "\n",
    "example.size_of(\"enjoyn_air_temperature.mp4\")"
   ]
  },
  {
   "cell_type": "markdown",
   "metadata": {},
   "source": [
    "### imageio"
   ]
  },
  {
   "cell_type": "code",
   "execution_count": null,
   "metadata": {},
   "outputs": [],
   "source": [
    "import imageio.v3 as iio\n",
    "\n",
    "with example.time_run():\n",
    "    imageio_uri = \"imageio_air_temperature.mp4\"\n",
    "    iio.imwrite(imageio_uri, [iio.imread(output) for output in outputs])\n",
    "\n",
    "example.size_of(\"imageio_air_temperature.mp4\")"
   ]
  },
  {
   "cell_type": "markdown",
   "metadata": {},
   "source": [
    "### moviepy"
   ]
  },
  {
   "cell_type": "code",
   "execution_count": null,
   "metadata": {},
   "outputs": [],
   "source": [
    "import moviepy.editor\n",
    "from moviepy.editor import ImageSequenceClip\n",
    "\n",
    "str_outputs = [str(output) for output in outputs]\n",
    "with example.time_run():\n",
    "    clip = ImageSequenceClip(str_outputs, fps=10)\n",
    "    clip.write_videofile(\"moviepy_air_temperature.mp4\")\n",
    "\n",
    "example.size_of(\"moviepy_air_temperature.mp4\")"
   ]
  },
  {
   "cell_type": "markdown",
   "metadata": {},
   "source": [
    "### ffmpeg"
   ]
  },
  {
   "cell_type": "code",
   "execution_count": null,
   "metadata": {},
   "outputs": [],
   "source": [
    "import shlex\n",
    "import subprocess\n",
    "\n",
    "for i, output in enumerate(outputs):\n",
    "    img_path = example._temporary_directory / f\"{i:04d}.png\"\n",
    "    img_path.write_bytes(output.read_bytes())\n",
    "\n",
    "cmd = shlex.split(\n",
    "    f\"ffmpeg -f image2 -framerate 1 -r 10 -y \"\n",
    "    f\"-i {example._temporary_directory}/%04d.png \"\n",
    "    f\"-pix_fmt yuv420p -loglevel fatal ffmpeg_air_temperature.mp4\"\n",
    ")\n",
    "with example.time_run():\n",
    "    subprocess.run(cmd)\n",
    "\n",
    "example.size_of(\"ffmpeg_air_temperature.mp4\")"
   ]
  }
 ],
 "metadata": {
  "kernelspec": {
   "display_name": "Python 3.9.7 ('base')",
   "language": "python",
   "name": "python3"
  },
  "language_info": {
   "codemirror_mode": {
    "name": "ipython",
    "version": 3
   },
   "file_extension": ".py",
   "mimetype": "text/x-python",
   "name": "python",
   "nbconvert_exporter": "python",
   "pygments_lexer": "ipython3"
  },
  "vscode": {
   "interpreter": {
    "hash": "c6e4e9f98eb68ad3b7c296f83d20e6de614cb42e90992a65aa266555a3137d0d"
   }
  }
 },
 "nbformat": 4,
 "nbformat_minor": 2
}
