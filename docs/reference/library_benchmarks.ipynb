{
 "cells": [
  {
   "cell_type": "markdown",
   "metadata": {},
   "source": [
    "# library benchmarks"
   ]
  },
  {
   "cell_type": "markdown",
   "metadata": {},
   "source": [
    "## results\n",
    "\n",
    "GIF animations:\n",
    "\n",
    "library | runtime (s) | file size (MBs)\n",
    "-- | -- | --\n",
    "enjoyn | 39 | 22\n",
    "imageio | 42 | 32\n",
    "moviepy | 111 | 40\n",
    "ffmpeg | 37 | 255\n",
    "\n",
    "MP4 animations:\n",
    "\n",
    "library | runtime (s) | file size (MBs)\n",
    "-- | -- | --\n",
    "enjoyn | 15 | 11\n",
    "imageio | 37 | 10\n",
    "moviepy | 57 | 10\n",
    "ffmpeg | 13 | 10\n",
    "\n",
    "Tested with MacBook Air (M1, 2020); re-runs may vary slightly."
   ]
  },
  {
   "cell_type": "markdown",
   "metadata": {},
   "source": [
    "## setup"
   ]
  },
  {
   "cell_type": "code",
   "execution_count": 1,
   "metadata": {},
   "outputs": [],
   "source": [
    "from enjoyn.example import AirTemperatureExample\n",
    "\n",
    "example = AirTemperatureExample()\n",
    "outputs = example.output_images()"
   ]
  },
  {
   "cell_type": "markdown",
   "metadata": {},
   "source": [
    "## gif animation"
   ]
  },
  {
   "cell_type": "markdown",
   "metadata": {},
   "source": [
    "### enjoyn"
   ]
  },
  {
   "cell_type": "code",
   "execution_count": 2,
   "metadata": {},
   "outputs": [
    {
     "name": "stdout",
     "output_type": "stream",
     "text": [
      "[########################################] | 100% Completed | 40.5s\n",
      "Runtime: 40.62840654200045 seconds\n",
      "File size of enjoyn_air_temperature.gif: 21.96 MBs\n"
     ]
    }
   ],
   "source": [
    "from enjoyn import GifAnimator\n",
    "\n",
    "output_path = \"assets/enjoyn_air_temperature.gif\"\n",
    "with example.time_run():\n",
    "    GifAnimator(items=outputs, output_path=output_path).compute()\n",
    "\n",
    "example.size_of(output_path)"
   ]
  },
  {
   "cell_type": "markdown",
   "metadata": {},
   "source": [
    "### imageio"
   ]
  },
  {
   "cell_type": "code",
   "execution_count": 3,
   "metadata": {},
   "outputs": [
    {
     "name": "stdout",
     "output_type": "stream",
     "text": [
      "Runtime: 42.90011516600134 seconds\n",
      "File size of imageio_air_temperature.gif: 32.19 MBs\n"
     ]
    }
   ],
   "source": [
    "import imageio.v3 as iio\n",
    "\n",
    "output_path = \"assets/imageio_air_temperature.gif\"\n",
    "with example.time_run():\n",
    "    iio.imwrite(output_path, [iio.imread(output) for output in outputs], loop=0)\n",
    "\n",
    "example.size_of(output_path)"
   ]
  },
  {
   "cell_type": "markdown",
   "metadata": {},
   "source": [
    "### moviepy"
   ]
  },
  {
   "cell_type": "code",
   "execution_count": 4,
   "metadata": {},
   "outputs": [
    {
     "name": "stdout",
     "output_type": "stream",
     "text": [
      "MoviePy - Building file moviepy_air_temperature.gif with imageio.\n"
     ]
    },
    {
     "name": "stderr",
     "output_type": "stream",
     "text": [
      "                                                                "
     ]
    },
    {
     "name": "stdout",
     "output_type": "stream",
     "text": [
      "Runtime: 116.50619766599993 seconds\n",
      "File size of moviepy_air_temperature.gif: 40.40 MBs\n"
     ]
    },
    {
     "name": "stderr",
     "output_type": "stream",
     "text": [
      "\r"
     ]
    }
   ],
   "source": [
    "import moviepy.editor\n",
    "from moviepy.editor import ImageSequenceClip\n",
    "\n",
    "output_path = \"moviepy_air_temperature.gif\"\n",
    "str_outputs = [str(output) for output in outputs]\n",
    "with example.time_run():\n",
    "    clip = ImageSequenceClip(str_outputs, fps=10)\n",
    "    clip.write_gif(output_path)\n",
    "\n",
    "example.size_of(output_path)"
   ]
  },
  {
   "cell_type": "markdown",
   "metadata": {},
   "source": [
    "### ffmpeg"
   ]
  },
  {
   "cell_type": "code",
   "execution_count": 5,
   "metadata": {},
   "outputs": [
    {
     "name": "stdout",
     "output_type": "stream",
     "text": [
      "Runtime: 37.32564495900078 seconds\n",
      "File size of ffmpeg_air_temperature.gif: 255.71 MBs\n"
     ]
    }
   ],
   "source": [
    "import shlex\n",
    "import subprocess\n",
    "\n",
    "output_path = \"ffmpeg_air_temperature.gif\"\n",
    "for i, output in enumerate(outputs):\n",
    "    img_path = example._temporary_directory / f\"{i:04d}.png\"\n",
    "    img_path.write_bytes(output.read_bytes())\n",
    "\n",
    "cmd = shlex.split(\n",
    "    f\"ffmpeg -f image2 -framerate 20 \"\n",
    "    f\"-i {example._temporary_directory}/%04d.png -y \"\n",
    "    f\"-loglevel quiet {output_path}\"\n",
    ")\n",
    "with example.time_run():\n",
    "    subprocess.run(cmd)\n",
    "\n",
    "example.size_of(output_path)"
   ]
  },
  {
   "cell_type": "markdown",
   "metadata": {},
   "source": [
    "## mp4 animation"
   ]
  },
  {
   "cell_type": "markdown",
   "metadata": {},
   "source": [
    "### enjoyn"
   ]
  },
  {
   "cell_type": "code",
   "execution_count": 7,
   "metadata": {},
   "outputs": [
    {
     "name": "stdout",
     "output_type": "stream",
     "text": [
      "[########################################] | 100% Completed | 14.1s\n",
      "Runtime: 14.224654665998969 seconds\n",
      "File size of enjoyn_air_temperature.mp4: 11.33 MBs\n"
     ]
    }
   ],
   "source": [
    "from enjoyn import Mp4Animator\n",
    "\n",
    "output_path = \"enjoyn_air_temperature.mp4\"\n",
    "with example.time_run():\n",
    "    Mp4Animator(items=outputs, output_path=output_path).compute()\n",
    "\n",
    "example.size_of(output_path)"
   ]
  },
  {
   "cell_type": "markdown",
   "metadata": {},
   "source": [
    "### imageio"
   ]
  },
  {
   "cell_type": "code",
   "execution_count": 8,
   "metadata": {},
   "outputs": [
    {
     "name": "stdout",
     "output_type": "stream",
     "text": [
      "Runtime: 30.01758450000125 seconds\n",
      "File size of imageio_air_temperature.mp4: 10.33 MBs\n"
     ]
    }
   ],
   "source": [
    "import imageio.v3 as iio\n",
    "\n",
    "output_path = \"imageio_air_temperature.mp4\"\n",
    "with example.time_run():\n",
    "    iio.imwrite(imageio_uri, [iio.imread(output) for output in outputs])\n",
    "\n",
    "example.size_of(output_path)"
   ]
  },
  {
   "cell_type": "markdown",
   "metadata": {},
   "source": [
    "### moviepy"
   ]
  },
  {
   "cell_type": "code",
   "execution_count": 9,
   "metadata": {},
   "outputs": [
    {
     "name": "stdout",
     "output_type": "stream",
     "text": [
      "Moviepy - Building video moviepy_air_temperature.mp4.\n",
      "Moviepy - Writing video moviepy_air_temperature.mp4\n",
      "\n"
     ]
    },
    {
     "name": "stderr",
     "output_type": "stream",
     "text": [
      "                                                                \r"
     ]
    },
    {
     "name": "stdout",
     "output_type": "stream",
     "text": [
      "Moviepy - Done !\n",
      "Moviepy - video ready moviepy_air_temperature.mp4\n",
      "Runtime: 51.85272874999828 seconds\n",
      "File size of moviepy_air_temperature.mp4: 10.33 MBs\n"
     ]
    }
   ],
   "source": [
    "import moviepy.editor\n",
    "from moviepy.editor import ImageSequenceClip\n",
    "\n",
    "output_path = \"moviepy_air_temperature.mp4\"\n",
    "str_outputs = [str(output) for output in outputs]\n",
    "with example.time_run():\n",
    "    clip = ImageSequenceClip(str_outputs, fps=10)\n",
    "    clip.write_videofile(output_path)\n",
    "\n",
    "example.size_of(output_path)"
   ]
  },
  {
   "cell_type": "markdown",
   "metadata": {},
   "source": [
    "### ffmpeg"
   ]
  },
  {
   "cell_type": "code",
   "execution_count": 10,
   "metadata": {},
   "outputs": [
    {
     "name": "stdout",
     "output_type": "stream",
     "text": [
      "Runtime: 10.275208666998878 seconds\n",
      "File size of ffmpeg_air_temperature.mp4: 10.33 MBs\n"
     ]
    }
   ],
   "source": [
    "import shlex\n",
    "import subprocess\n",
    "\n",
    "for i, output in enumerate(outputs):\n",
    "    img_path = example._temporary_directory / f\"{i:04d}.png\"\n",
    "    img_path.write_bytes(output.read_bytes())\n",
    "\n",
    "output_path = \"ffmpeg_air_temperature.mp4\"\n",
    "cmd = shlex.split(\n",
    "    f\"ffmpeg -f image2 -framerate 1 -r 10 -y \"\n",
    "    f\"-i {example._temporary_directory}/%04d.png \"\n",
    "    f\"-pix_fmt yuv420p -loglevel fatal {output_path}\"\n",
    ")\n",
    "with example.time_run():\n",
    "    subprocess.run(cmd)\n",
    "\n",
    "example.size_of(output_path)"
   ]
  }
 ],
 "metadata": {
  "kernelspec": {
   "display_name": "Python 3.9.7 ('base')",
   "language": "python",
   "name": "python3"
  },
  "language_info": {
   "codemirror_mode": {
    "name": "ipython",
    "version": 3
   },
   "file_extension": ".py",
   "mimetype": "text/x-python",
   "name": "python",
   "nbconvert_exporter": "python",
   "pygments_lexer": "ipython3",
   "version": "3.9.13"
  },
  "vscode": {
   "interpreter": {
    "hash": "c6e4e9f98eb68ad3b7c296f83d20e6de614cb42e90992a65aa266555a3137d0d"
   }
  }
 },
 "nbformat": 4,
 "nbformat_minor": 2
}
