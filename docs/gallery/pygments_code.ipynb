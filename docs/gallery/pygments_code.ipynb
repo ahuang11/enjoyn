{
 "cells": [
  {
   "cell_type": "markdown",
   "metadata": {},
   "source": [
    "# pygments code"
   ]
  },
  {
   "cell_type": "code",
   "execution_count": 1,
   "metadata": {},
   "outputs": [
    {
     "name": "stdout",
     "output_type": "stream",
     "text": [
      "[########################################] | 100% Completed |  4.2s\n"
     ]
    }
   ],
   "source": [
    "from typing import List, Tuple, Union\n",
    "\n",
    "import numpy as np\n",
    "from PIL import Image, ImageDraw\n",
    "from pygments import lex\n",
    "from pygments.formatters import ImageFormatter\n",
    "from pygments.lexers import get_lexer_by_name\n",
    "\n",
    "from enjoyn import GifAnimator, Preprocessor\n",
    "\n",
    "\n",
    "def _custom_format(\n",
    "    formatter: ImageFormatter,\n",
    "    tokensource: List[Tuple],\n",
    "    max_line_length: int = None,\n",
    "    max_line_number: int = None,\n",
    ") -> Image:\n",
    "    formatter._create_drawables(tokensource)\n",
    "    formatter._draw_line_numbers()\n",
    "    max_line_length = max_line_length or formatter.maxlinelength\n",
    "    max_line_number = max_line_number or formatter.maxlineno\n",
    "\n",
    "    image = Image.new(\n",
    "        \"RGB\",\n",
    "        formatter._get_image_size(max_line_length, max_line_number),\n",
    "        formatter.background_color,\n",
    "    )\n",
    "    formatter._paint_line_number_bg(image)\n",
    "    draw = ImageDraw.Draw(image)\n",
    "    # Highlight\n",
    "    if formatter.hl_lines:\n",
    "        x = (\n",
    "            formatter.image_pad\n",
    "            + formatter.line_number_width\n",
    "            - formatter.line_number_pad\n",
    "            + 1\n",
    "        )\n",
    "        recth = formatter._get_line_height()\n",
    "        rectw = image.size[0] - x\n",
    "        for linenumber in formatter.hl_lines:\n",
    "            y = formatter._get_line_y(linenumber - 1)\n",
    "            draw.rectangle([(x, y), (x + rectw, y + recth)], fill=formatter.hl_color)\n",
    "    for pos, value, font, text_fg, text_bg in formatter.drawables:\n",
    "        if text_bg:\n",
    "            text_size = draw.textsize(text=value, font=font)\n",
    "            draw.rectangle(\n",
    "                [pos[0], pos[1], pos[0] + text_size[0], pos[1] + text_size[1]],\n",
    "                fill=text_bg,\n",
    "            )\n",
    "        draw.text(pos, value, font=font, fill=text_fg)\n",
    "    return np.asarray(image)\n",
    "\n",
    "\n",
    "def render_frame(\n",
    "    code: str,\n",
    "    formatter: ImageFormatter,\n",
    "    max_line_length: int = None,\n",
    "    max_line_number: int = None,\n",
    ") -> Image:\n",
    "    lexer = get_lexer_by_name(\"python\")\n",
    "    return _custom_format(\n",
    "        formatter,\n",
    "        lex(code, lexer),\n",
    "        max_line_length=max_line_length,\n",
    "        max_line_number=max_line_number,\n",
    "    )\n",
    "\n",
    "\n",
    "code = \"\"\"\n",
    "from io import BytesIO\n",
    "\n",
    "import matplotlib.pyplot as plt\n",
    "import numpy as np\n",
    "\n",
    "from enjoyn import GifAnimator, Preprocessor\n",
    "\n",
    "def plot(i):\n",
    "    x = np.linspace(0, 2, 1000)\n",
    "    y = np.sin(2 * np.pi * (x - 0.01 * i))\n",
    "    plt.plot(x, y)\n",
    "\n",
    "    buf = BytesIO()\n",
    "    plt.savefig(buf)\n",
    "    plt.close()\n",
    "    return buf\n",
    "\n",
    "output = GifAnimator(\n",
    "    preprocessor=plot,\n",
    "    items=np.arange(0, 200),\n",
    "    output_path=\"sine_wave.gif\",\n",
    ").compute()\n",
    "\"\"\".strip()\n",
    "\n",
    "formatter = ImageFormatter(\n",
    "    image_format=\"gif\",\n",
    "    line_pad=8,\n",
    "    font_name=None,\n",
    "    line_number_bg=None,\n",
    "    line_number_fg=None,\n",
    "    encoding=\"utf-8\",\n",
    ")\n",
    "longest_line = max(code.splitlines(), key=len) + \" \" * 12\n",
    "max_line_length, _ = formatter.fonts.get_text_size(longest_line)\n",
    "max_line_number = code.count(\"\\n\") + 1\n",
    "items = [code[:i] for i in range(0, len(code) + 3, 3)]\n",
    "items += [items[-1]] * 20  # pause at the end\n",
    "\n",
    "preprocessor = Preprocessor(\n",
    "    func=render_frame,\n",
    "    args=(formatter,),\n",
    "    kwds=dict(max_line_length=max_line_length, max_line_number=max_line_number),\n",
    ")\n",
    "\n",
    "output = GifAnimator(\n",
    "    preprocessor=preprocessor, items=items, output_path=\"assets/pygments_code.gif\"\n",
    ").compute()"
   ]
  },
  {
   "cell_type": "markdown",
   "metadata": {},
   "source": [
    "![pygments_code](assets/pygments_code.gif)"
   ]
  }
 ],
 "metadata": {
  "kernelspec": {
   "display_name": "Python 3.9.13 ('base')",
   "language": "python",
   "name": "python3"
  },
  "language_info": {
   "codemirror_mode": {
    "name": "ipython",
    "version": 3
   },
   "file_extension": ".py",
   "mimetype": "text/x-python",
   "name": "python",
   "nbconvert_exporter": "python",
   "pygments_lexer": "ipython3",
   "version": "3.9.13"
  },
  "orig_nbformat": 4,
  "vscode": {
   "interpreter": {
    "hash": "c6e4e9f98eb68ad3b7c296f83d20e6de614cb42e90992a65aa266555a3137d0d"
   }
  }
 },
 "nbformat": 4,
 "nbformat_minor": 2
}
