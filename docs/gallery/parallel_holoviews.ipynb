{
 "cells": [
  {
   "cell_type": "code",
   "execution_count": 7,
   "metadata": {},
   "outputs": [
    {
     "name": "stdout",
     "output_type": "stream",
     "text": [
      "[########################################] | 100% Completed | 16.6s\n"
     ]
    }
   ],
   "source": [
    "import holoviews as hv\n",
    "import numpy as np\n",
    "\n",
    "from enjoyn import GifAnimator, HoloViewsPreprocessor\n",
    "\n",
    "\n",
    "def plot(i):\n",
    "    # needed to set opts\n",
    "    from holoviews.plotting import bokeh\n",
    "\n",
    "    x, y = np.mgrid[-10:10, -10:10] * i\n",
    "    sine_rings = np.sin(x**2 + y**2) * np.pi + np.pi\n",
    "    exp_falloff = 1 / np.exp((x**2 + y**2) / 8)\n",
    "    vector_field = hv.VectorField((x, y, sine_rings, exp_falloff)).opts(\n",
    "        xlim=(-15, 15), ylim=(-15, 15)\n",
    "    )\n",
    "    return vector_field\n",
    "\n",
    "\n",
    "preprocessor = HoloViewsPreprocessor(func=plot)\n",
    "output = GifAnimator(\n",
    "    preprocessor=preprocessor,\n",
    "    items=np.arange(-1.01, 1.251, 0.05),\n",
    "    output_path=\"assets/parallel_holoviews.gif\",\n",
    ").compute()"
   ]
  },
  {
   "cell_type": "markdown",
   "metadata": {},
   "source": [
    "![parallel-holoviews](assets/parallel_holoviews.gif)"
   ]
  }
 ],
 "metadata": {
  "kernelspec": {
   "display_name": "Python 3.9.13 ('base')",
   "language": "python",
   "name": "python3"
  },
  "language_info": {
   "codemirror_mode": {
    "name": "ipython",
    "version": 3
   },
   "file_extension": ".py",
   "mimetype": "text/x-python",
   "name": "python",
   "nbconvert_exporter": "python",
   "pygments_lexer": "ipython3",
   "version": "3.9.13"
  },
  "orig_nbformat": 4,
  "vscode": {
   "interpreter": {
    "hash": "c6e4e9f98eb68ad3b7c296f83d20e6de614cb42e90992a65aa266555a3137d0d"
   }
  }
 },
 "nbformat": 4,
 "nbformat_minor": 2
}
